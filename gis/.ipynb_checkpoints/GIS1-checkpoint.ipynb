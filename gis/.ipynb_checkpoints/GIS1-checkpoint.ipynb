{
 "cells": [
  {
   "cell_type": "code",
   "execution_count": null,
   "id": "c08529b2-c87c-429b-81e0-0ef53b9cd263",
   "metadata": {},
   "outputs": [
    {
     "name": "stdout",
     "output_type": "stream",
     "text": [
      "Starting download of LULC tiles for MGRS tile '45Q' from 2017 to 2022...\n",
      "Attempting to download: https://lulctimeseries.blob.core.windows.net/lulctimeseriesv003/lc2017/45Q_20170101-20180101.tif\n",
      "Saving to: LULC_Annual_Tiles3/45Q_20170101-20180101.tif\n"
     ]
    }
   ],
   "source": [
    "import requests\n",
    "import os\n",
    "import time\n",
    "\n",
    "def download_lulc_tile(year, tile_id=\"46R\", output_dir=\"LULC_Downloads_46R_Tile\"):\n",
    "    \"\"\"\n",
    "    Downloads a specific LULC GeoTIFF tile for a given year.\n",
    "\n",
    "    Args:\n",
    "        year (int): The year of the LULC data (e.g., 2017).\n",
    "        tile_id (str): The Sentinel-2 MGRS tile ID (e.g., \"46R\").\n",
    "        output_dir (str): The directory where the downloaded files will be saved.\n",
    "    \"\"\"\n",
    "    \n",
    "    base_url = \"https://lulctimeseries.blob.core.windows.net/lulctimeseriesv003/\"\n",
    "    \n",
    "    # Construct the year-specific directory and filename\n",
    "    year_dir = f\"lc{year}/\"\n",
    "    filename = f\"{tile_id}_{year}0101-{year+1}0101.tif\" # Assumes YYYY0101-(YYYY+1)0101 pattern\n",
    "\n",
    "    full_url = f\"{base_url}{year_dir}{filename}\"\n",
    "    output_filepath = os.path.join(output_dir, filename)\n",
    "\n",
    "    # Create the output directory if it doesn't exist\n",
    "    os.makedirs(output_dir, exist_ok=True)\n",
    "\n",
    "    print(f\"Attempting to download: {full_url}\")\n",
    "    print(f\"Saving to: {output_filepath}\")\n",
    "\n",
    "    try:\n",
    "        # Use stream=True to handle large files efficiently\n",
    "        with requests.get(full_url, stream=True) as r:\n",
    "            r.raise_for_status() # Raise an HTTPError for bad responses (4xx or 5xx)\n",
    "            with open(output_filepath, 'wb') as f:\n",
    "                for chunk in r.iter_content(chunk_size=8192): # Iterate in chunks\n",
    "                    f.write(chunk)\n",
    "        print(f\"Successfully downloaded {filename}\")\n",
    "    except requests.exceptions.HTTPError as e:\n",
    "        print(f\"Error downloading {filename}: HTTP Error {e.response.status_code} - {e.response.reason}\")\n",
    "        if e.response.status_code == 404:\n",
    "            print(\"This usually means the file was not found at the specified URL for this year/tile.\")\n",
    "    except requests.exceptions.ConnectionError as e:\n",
    "        print(f\"Error downloading {filename}: Connection Error - {e}\")\n",
    "    except requests.exceptions.Timeout as e:\n",
    "        print(f\"Error downloading {filename}: Timeout Error - {e}\")\n",
    "    except requests.exceptions.RequestException as e:\n",
    "        print(f\"An unexpected error occurred while downloading {filename}: {e}\")\n",
    "    \n",
    "    # Add a small delay to avoid overwhelming the server\n",
    "    time.sleep(1) \n",
    "\n",
    "\n",
    "# --- Main execution part ---\n",
    "if __name__ == \"__main__\":\n",
    "    start_year = 2017\n",
    "    end_year = 2022\n",
    "    \n",
    "    # The specific MGRS tile ID you provided\n",
    "    target_tile_id = \"45Q\" \n",
    "    \n",
    "    # Output directory for your downloads\n",
    "    download_directory = \"LULC_Annual_Tiles3\"\n",
    "\n",
    "    print(f\"Starting download of LULC tiles for MGRS tile '{target_tile_id}' from {start_year} to {end_year}...\")\n",
    "    \n",
    "    for year in range(start_year, end_year + 1):\n",
    "        download_lulc_tile(year, target_tile_id, download_directory)\n",
    "        \n",
    "    print(\"\\nDownload process completed.\")\n",
    "    print(f\"Check the '{download_directory}' folder for your GeoTIFF files.\")\n",
    "\n",
    "    print(\"\\n--- Important Note on Coverage ---\")\n",
    "    print(f\"The downloaded files are only for the Sentinel-2 MGRS tile '{target_tile_id}'.\")\n",
    "    print(\"Bangladesh is covered by multiple MGRS tiles (e.g., 45Q, 46Q, 45R, 46R).\")\n",
    "    print(\"If you need full coverage of Bangladesh, you will need to find the corresponding links for other tiles.\")"
   ]
  },
  {
   "cell_type": "code",
   "execution_count": null,
   "id": "125721a3-9504-4dea-a02f-eb7ed14490ce",
   "metadata": {},
   "outputs": [],
   "source": []
  }
 ],
 "metadata": {
  "kernelspec": {
   "display_name": "Python 3 (ipykernel)",
   "language": "python",
   "name": "python3"
  },
  "language_info": {
   "codemirror_mode": {
    "name": "ipython",
    "version": 3
   },
   "file_extension": ".py",
   "mimetype": "text/x-python",
   "name": "python",
   "nbconvert_exporter": "python",
   "pygments_lexer": "ipython3",
   "version": "3.11.0"
  }
 },
 "nbformat": 4,
 "nbformat_minor": 5
}
