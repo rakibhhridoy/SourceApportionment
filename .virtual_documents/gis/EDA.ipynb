import pandas as pd


df = pd.read_csv("merged_df.csv", index_col=False)
df.head()


df.columns


prop = pd.read_csv("../data/FiveRiverSedimentProperties.csv", index_col=False)
prop.head()


merge = pd.concat([df, prop], axis=1)
merge.head()


merge.describe()


merge.columns


merge = merge.loc[:,~merge.columns.duplicated()]
common_columns = [col for col in merge.columns if not (col.endswith('W') or col.endswith('R'))]

winter_columns = [col for col in merge.columns if col.endswith('W')]
rainy_columns = [col for col in merge.columns if col.endswith('R')]

df_winter_parameters = merge[common_columns + winter_columns].copy()
df_rainy_parameters = merge[common_columns + rainy_columns].copy()


df_rainy_parameters.columns


df_rainy_parameters.to_csv("../data/RainySeason.csv", index=False)
df_winter_parameters.to_csv("../data/WinterSeason.csv", index= False)


merge.columns


merge.to_csv("../data/Main.csv", index= False)


rainy = pd.read_csv("../data/RainySeason.csv")
winter = pd.read_csv("../data/WinterSeason.csv")


rainy["point_id"] = rainy.index
winter["point_id"] = rainy.index


rainy.head()


lulc_var = pd.read_csv("data/LULC_5km_Variations.csv", index_col=False)
lulc_var.head()


col = ['point_id', 'variation_17_18', 'variation_18_19',
       'variation_19_20', 'variation_20_21', 'variation_21_22']
lulc_var.columns = col
lulc_var.head()


rainy_ext = pd.merge(rainy, lulc_var, on='point_id', how='inner')
winter_ext = pd.merge(winter, lulc_var, on='point_id', how='inner')
rainy_ext.head()


merger = pd.merge(rainy_ext, winter_ext, on='point_id', how='inner')


rainy_ext.drop(columns= "point_id", inplace=True)
winter_ext.drop(columns= "point_id", inplace=True)
merger.drop(columns= "point_id", inplace=True)


rainy_ext.to_csv("data/Hydro_LULC_Rainy.csv", index=False)
winter_ext.to_csv("data/Hydro_LULC_Winter.csv", index=False)
merger.to_csv("data/Hydro_LULC_Combine.csv", index=False)



