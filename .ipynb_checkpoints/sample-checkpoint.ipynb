{
 "cells": [
  {
   "cell_type": "code",
   "execution_count": 1,
   "id": "0d39fe2f",
   "metadata": {},
   "outputs": [],
   "source": [
    "import pandas as pd"
   ]
  },
  {
   "cell_type": "code",
   "execution_count": 2,
   "id": "35071f32",
   "metadata": {},
   "outputs": [],
   "source": [
    "df = pd.read_excel(\"Shitalakshya.xlsx\")"
   ]
  },
  {
   "cell_type": "code",
   "execution_count": 3,
   "id": "b4864812",
   "metadata": {},
   "outputs": [
    {
     "data": {
      "text/html": [
       "<div>\n",
       "<style scoped>\n",
       "    .dataframe tbody tr th:only-of-type {\n",
       "        vertical-align: middle;\n",
       "    }\n",
       "\n",
       "    .dataframe tbody tr th {\n",
       "        vertical-align: top;\n",
       "    }\n",
       "\n",
       "    .dataframe thead th {\n",
       "        text-align: right;\n",
       "    }\n",
       "</style>\n",
       "<table border=\"1\" class=\"dataframe\">\n",
       "  <thead>\n",
       "    <tr style=\"text-align: right;\">\n",
       "      <th></th>\n",
       "      <th>Season</th>\n",
       "      <th>Station</th>\n",
       "      <th>Pb</th>\n",
       "      <th>Cu</th>\n",
       "      <th>Cr</th>\n",
       "      <th>Zn</th>\n",
       "      <th>Cd</th>\n",
       "    </tr>\n",
       "  </thead>\n",
       "  <tbody>\n",
       "    <tr>\n",
       "      <th>0</th>\n",
       "      <td>Pre-monsoon</td>\n",
       "      <td>St1</td>\n",
       "      <td>10.76</td>\n",
       "      <td>13.25</td>\n",
       "      <td>36.71</td>\n",
       "      <td>83.80</td>\n",
       "      <td>0.64</td>\n",
       "    </tr>\n",
       "    <tr>\n",
       "      <th>1</th>\n",
       "      <td>Pre-monsoon</td>\n",
       "      <td>St2</td>\n",
       "      <td>11.68</td>\n",
       "      <td>17.51</td>\n",
       "      <td>49.14</td>\n",
       "      <td>87.96</td>\n",
       "      <td>0.69</td>\n",
       "    </tr>\n",
       "    <tr>\n",
       "      <th>2</th>\n",
       "      <td>Pre-monsoon</td>\n",
       "      <td>St3</td>\n",
       "      <td>12.50</td>\n",
       "      <td>21.36</td>\n",
       "      <td>49.76</td>\n",
       "      <td>90.01</td>\n",
       "      <td>0.70</td>\n",
       "    </tr>\n",
       "    <tr>\n",
       "      <th>3</th>\n",
       "      <td>Monsoon</td>\n",
       "      <td>St1</td>\n",
       "      <td>6.76</td>\n",
       "      <td>7.98</td>\n",
       "      <td>11.12</td>\n",
       "      <td>42.22</td>\n",
       "      <td>0.38</td>\n",
       "    </tr>\n",
       "    <tr>\n",
       "      <th>4</th>\n",
       "      <td>Monsoon</td>\n",
       "      <td>St2</td>\n",
       "      <td>7.54</td>\n",
       "      <td>9.44</td>\n",
       "      <td>15.67</td>\n",
       "      <td>46.57</td>\n",
       "      <td>0.43</td>\n",
       "    </tr>\n",
       "    <tr>\n",
       "      <th>5</th>\n",
       "      <td>Monsoon</td>\n",
       "      <td>St3</td>\n",
       "      <td>9.26</td>\n",
       "      <td>12.72</td>\n",
       "      <td>18.23</td>\n",
       "      <td>46.85</td>\n",
       "      <td>0.53</td>\n",
       "    </tr>\n",
       "    <tr>\n",
       "      <th>6</th>\n",
       "      <td>Post-monsoon</td>\n",
       "      <td>St1</td>\n",
       "      <td>16.74</td>\n",
       "      <td>39.57</td>\n",
       "      <td>51.18</td>\n",
       "      <td>90.85</td>\n",
       "      <td>0.76</td>\n",
       "    </tr>\n",
       "    <tr>\n",
       "      <th>7</th>\n",
       "      <td>Post-monsoon</td>\n",
       "      <td>St2</td>\n",
       "      <td>20.81</td>\n",
       "      <td>46.27</td>\n",
       "      <td>55.95</td>\n",
       "      <td>91.58</td>\n",
       "      <td>0.81</td>\n",
       "    </tr>\n",
       "    <tr>\n",
       "      <th>8</th>\n",
       "      <td>Post-monsoon</td>\n",
       "      <td>St3</td>\n",
       "      <td>22.41</td>\n",
       "      <td>53.31</td>\n",
       "      <td>57.83</td>\n",
       "      <td>99.55</td>\n",
       "      <td>0.87</td>\n",
       "    </tr>\n",
       "  </tbody>\n",
       "</table>\n",
       "</div>"
      ],
      "text/plain": [
       "         Season Station     Pb     Cu     Cr     Zn    Cd\n",
       "0   Pre-monsoon     St1  10.76  13.25  36.71  83.80  0.64\n",
       "1   Pre-monsoon     St2  11.68  17.51  49.14  87.96  0.69\n",
       "2   Pre-monsoon     St3  12.50  21.36  49.76  90.01  0.70\n",
       "3       Monsoon     St1   6.76   7.98  11.12  42.22  0.38\n",
       "4       Monsoon     St2   7.54   9.44  15.67  46.57  0.43\n",
       "5       Monsoon     St3   9.26  12.72  18.23  46.85  0.53\n",
       "6  Post-monsoon     St1  16.74  39.57  51.18  90.85  0.76\n",
       "7  Post-monsoon     St2  20.81  46.27  55.95  91.58  0.81\n",
       "8  Post-monsoon     St3  22.41  53.31  57.83  99.55  0.87"
      ]
     },
     "execution_count": 3,
     "metadata": {},
     "output_type": "execute_result"
    }
   ],
   "source": [
    "df"
   ]
  },
  {
   "cell_type": "code",
   "execution_count": 4,
   "id": "fbad13e7",
   "metadata": {},
   "outputs": [],
   "source": [
    "season = pd.Series([\"0\",\"0\",\"0\",\"1\",\"1\",\"1\",\"2\",\"2\",\"2\"])"
   ]
  },
  {
   "cell_type": "code",
   "execution_count": 5,
   "id": "ac1224fe",
   "metadata": {},
   "outputs": [],
   "source": [
    "df[\"Season_Num\"] = season"
   ]
  },
  {
   "cell_type": "code",
   "execution_count": 6,
   "id": "b50a1869",
   "metadata": {},
   "outputs": [
    {
     "data": {
      "text/html": [
       "<div>\n",
       "<style scoped>\n",
       "    .dataframe tbody tr th:only-of-type {\n",
       "        vertical-align: middle;\n",
       "    }\n",
       "\n",
       "    .dataframe tbody tr th {\n",
       "        vertical-align: top;\n",
       "    }\n",
       "\n",
       "    .dataframe thead th {\n",
       "        text-align: right;\n",
       "    }\n",
       "</style>\n",
       "<table border=\"1\" class=\"dataframe\">\n",
       "  <thead>\n",
       "    <tr style=\"text-align: right;\">\n",
       "      <th></th>\n",
       "      <th>Season</th>\n",
       "      <th>Station</th>\n",
       "      <th>Pb</th>\n",
       "      <th>Cu</th>\n",
       "      <th>Cr</th>\n",
       "      <th>Zn</th>\n",
       "      <th>Cd</th>\n",
       "      <th>Season_Num</th>\n",
       "    </tr>\n",
       "  </thead>\n",
       "  <tbody>\n",
       "    <tr>\n",
       "      <th>0</th>\n",
       "      <td>Pre-monsoon</td>\n",
       "      <td>St1</td>\n",
       "      <td>10.76</td>\n",
       "      <td>13.25</td>\n",
       "      <td>36.71</td>\n",
       "      <td>83.80</td>\n",
       "      <td>0.64</td>\n",
       "      <td>0</td>\n",
       "    </tr>\n",
       "    <tr>\n",
       "      <th>1</th>\n",
       "      <td>Pre-monsoon</td>\n",
       "      <td>St2</td>\n",
       "      <td>11.68</td>\n",
       "      <td>17.51</td>\n",
       "      <td>49.14</td>\n",
       "      <td>87.96</td>\n",
       "      <td>0.69</td>\n",
       "      <td>0</td>\n",
       "    </tr>\n",
       "    <tr>\n",
       "      <th>2</th>\n",
       "      <td>Pre-monsoon</td>\n",
       "      <td>St3</td>\n",
       "      <td>12.50</td>\n",
       "      <td>21.36</td>\n",
       "      <td>49.76</td>\n",
       "      <td>90.01</td>\n",
       "      <td>0.70</td>\n",
       "      <td>0</td>\n",
       "    </tr>\n",
       "    <tr>\n",
       "      <th>3</th>\n",
       "      <td>Monsoon</td>\n",
       "      <td>St1</td>\n",
       "      <td>6.76</td>\n",
       "      <td>7.98</td>\n",
       "      <td>11.12</td>\n",
       "      <td>42.22</td>\n",
       "      <td>0.38</td>\n",
       "      <td>1</td>\n",
       "    </tr>\n",
       "    <tr>\n",
       "      <th>4</th>\n",
       "      <td>Monsoon</td>\n",
       "      <td>St2</td>\n",
       "      <td>7.54</td>\n",
       "      <td>9.44</td>\n",
       "      <td>15.67</td>\n",
       "      <td>46.57</td>\n",
       "      <td>0.43</td>\n",
       "      <td>1</td>\n",
       "    </tr>\n",
       "    <tr>\n",
       "      <th>5</th>\n",
       "      <td>Monsoon</td>\n",
       "      <td>St3</td>\n",
       "      <td>9.26</td>\n",
       "      <td>12.72</td>\n",
       "      <td>18.23</td>\n",
       "      <td>46.85</td>\n",
       "      <td>0.53</td>\n",
       "      <td>1</td>\n",
       "    </tr>\n",
       "    <tr>\n",
       "      <th>6</th>\n",
       "      <td>Post-monsoon</td>\n",
       "      <td>St1</td>\n",
       "      <td>16.74</td>\n",
       "      <td>39.57</td>\n",
       "      <td>51.18</td>\n",
       "      <td>90.85</td>\n",
       "      <td>0.76</td>\n",
       "      <td>2</td>\n",
       "    </tr>\n",
       "    <tr>\n",
       "      <th>7</th>\n",
       "      <td>Post-monsoon</td>\n",
       "      <td>St2</td>\n",
       "      <td>20.81</td>\n",
       "      <td>46.27</td>\n",
       "      <td>55.95</td>\n",
       "      <td>91.58</td>\n",
       "      <td>0.81</td>\n",
       "      <td>2</td>\n",
       "    </tr>\n",
       "    <tr>\n",
       "      <th>8</th>\n",
       "      <td>Post-monsoon</td>\n",
       "      <td>St3</td>\n",
       "      <td>22.41</td>\n",
       "      <td>53.31</td>\n",
       "      <td>57.83</td>\n",
       "      <td>99.55</td>\n",
       "      <td>0.87</td>\n",
       "      <td>2</td>\n",
       "    </tr>\n",
       "  </tbody>\n",
       "</table>\n",
       "</div>"
      ],
      "text/plain": [
       "         Season Station     Pb     Cu     Cr     Zn    Cd Season_Num\n",
       "0   Pre-monsoon     St1  10.76  13.25  36.71  83.80  0.64          0\n",
       "1   Pre-monsoon     St2  11.68  17.51  49.14  87.96  0.69          0\n",
       "2   Pre-monsoon     St3  12.50  21.36  49.76  90.01  0.70          0\n",
       "3       Monsoon     St1   6.76   7.98  11.12  42.22  0.38          1\n",
       "4       Monsoon     St2   7.54   9.44  15.67  46.57  0.43          1\n",
       "5       Monsoon     St3   9.26  12.72  18.23  46.85  0.53          1\n",
       "6  Post-monsoon     St1  16.74  39.57  51.18  90.85  0.76          2\n",
       "7  Post-monsoon     St2  20.81  46.27  55.95  91.58  0.81          2\n",
       "8  Post-monsoon     St3  22.41  53.31  57.83  99.55  0.87          2"
      ]
     },
     "execution_count": 6,
     "metadata": {},
     "output_type": "execute_result"
    }
   ],
   "source": [
    "df"
   ]
  },
  {
   "cell_type": "code",
   "execution_count": 8,
   "id": "98aff4b3",
   "metadata": {},
   "outputs": [],
   "source": [
    "background_values = pd.DataFrame({\n",
    "    \"Elements\": [\"Cr\", \"Mn\", \"Ni\", \"Cu\", \"Zn\", \"Cd\", \"Pb\", \"As\", \"Fe\"],\n",
    "    \"Bm\" : [71,750,49, 32, 127, 0.2, 16, 12, 35900]\n",
    "})"
   ]
  },
  {
   "cell_type": "markdown",
   "id": "54ca5d8b",
   "metadata": {},
   "source": [
    "### Igeo"
   ]
  },
  {
   "cell_type": "code",
   "execution_count": 9,
   "id": "b858a19e",
   "metadata": {},
   "outputs": [
    {
     "data": {
      "text/html": [
       "<div>\n",
       "<style scoped>\n",
       "    .dataframe tbody tr th:only-of-type {\n",
       "        vertical-align: middle;\n",
       "    }\n",
       "\n",
       "    .dataframe tbody tr th {\n",
       "        vertical-align: top;\n",
       "    }\n",
       "\n",
       "    .dataframe thead th {\n",
       "        text-align: right;\n",
       "    }\n",
       "</style>\n",
       "<table border=\"1\" class=\"dataframe\">\n",
       "  <thead>\n",
       "    <tr style=\"text-align: right;\">\n",
       "      <th></th>\n",
       "      <th>Elements</th>\n",
       "      <th>Bm</th>\n",
       "    </tr>\n",
       "  </thead>\n",
       "  <tbody>\n",
       "    <tr>\n",
       "      <th>0</th>\n",
       "      <td>Cr</td>\n",
       "      <td>71.0</td>\n",
       "    </tr>\n",
       "    <tr>\n",
       "      <th>1</th>\n",
       "      <td>Mn</td>\n",
       "      <td>750.0</td>\n",
       "    </tr>\n",
       "    <tr>\n",
       "      <th>2</th>\n",
       "      <td>Ni</td>\n",
       "      <td>49.0</td>\n",
       "    </tr>\n",
       "    <tr>\n",
       "      <th>3</th>\n",
       "      <td>Cu</td>\n",
       "      <td>32.0</td>\n",
       "    </tr>\n",
       "    <tr>\n",
       "      <th>4</th>\n",
       "      <td>Zn</td>\n",
       "      <td>127.0</td>\n",
       "    </tr>\n",
       "    <tr>\n",
       "      <th>5</th>\n",
       "      <td>Cd</td>\n",
       "      <td>0.2</td>\n",
       "    </tr>\n",
       "    <tr>\n",
       "      <th>6</th>\n",
       "      <td>Pb</td>\n",
       "      <td>16.0</td>\n",
       "    </tr>\n",
       "    <tr>\n",
       "      <th>7</th>\n",
       "      <td>As</td>\n",
       "      <td>12.0</td>\n",
       "    </tr>\n",
       "    <tr>\n",
       "      <th>8</th>\n",
       "      <td>Fe</td>\n",
       "      <td>35900.0</td>\n",
       "    </tr>\n",
       "  </tbody>\n",
       "</table>\n",
       "</div>"
      ],
      "text/plain": [
       "  Elements       Bm\n",
       "0       Cr     71.0\n",
       "1       Mn    750.0\n",
       "2       Ni     49.0\n",
       "3       Cu     32.0\n",
       "4       Zn    127.0\n",
       "5       Cd      0.2\n",
       "6       Pb     16.0\n",
       "7       As     12.0\n",
       "8       Fe  35900.0"
      ]
     },
     "execution_count": 9,
     "metadata": {},
     "output_type": "execute_result"
    }
   ],
   "source": [
    "background_values"
   ]
  },
  {
   "cell_type": "code",
   "execution_count": 10,
   "id": "a9aea40f",
   "metadata": {},
   "outputs": [],
   "source": [
    "import math"
   ]
  },
  {
   "cell_type": "code",
   "execution_count": 16,
   "id": "6c5adc7f",
   "metadata": {},
   "outputs": [],
   "source": [
    "igeo_Pb = []\n",
    "igeo_Cu = []\n",
    "igeo_Cr = []\n",
    "igeo_Zn = []\n",
    "igeo_Cd = []\n",
    "\n",
    "i = 0\n",
    "while i < len(df[\"Pb\"]):\n",
    "    ig_pb = math.log2(df[\"Pb\"][i]/ (1.5 * background_values[\"Bm\"][6]))\n",
    "    igeo_Pb.append(ig_pb)\n",
    "    \n",
    "    ig_Cu = math.log2(df[\"Cu\"][i]/ (1.5 * background_values[\"Bm\"][3]))\n",
    "    igeo_Cu.append(ig_Cu)\n",
    "    \n",
    "    ig_Cr = math.log2(df[\"Cr\"][i]/ (1.5 * background_values[\"Bm\"][0]))\n",
    "    igeo_Cr.append(ig_Cr)\n",
    "    \n",
    "    ig_Zn = math.log2(df[\"Zn\"][i]/ (1.5 * background_values[\"Bm\"][4]))\n",
    "    igeo_Zn.append(ig_Zn)\n",
    "    \n",
    "    ig_Cd = math.log2(df[\"Cd\"][i]/ (1.5 * background_values[\"Bm\"][5]))\n",
    "    igeo_Cd.append(ig_Cd)    \n",
    "    \n",
    "    i += 1"
   ]
  },
  {
   "cell_type": "code",
   "execution_count": 17,
   "id": "12101323",
   "metadata": {},
   "outputs": [
    {
     "data": {
      "text/plain": [
       "([-1.157356327939257,\n",
       "  -1.0389941316158637,\n",
       "  -0.9411063109464314,\n",
       "  -1.8279392542136965,\n",
       "  -1.6703979772272166,\n",
       "  -1.3739503072356445,\n",
       "  -0.5197348779455373,\n",
       "  -0.20575744076054622,\n",
       "  -0.09889175698548762],\n",
       " [-1.8570420461579569,\n",
       "  -1.454855322062323,\n",
       "  -1.168122758808327,\n",
       "  -2.588573754273535,\n",
       "  -2.3461756411340398,\n",
       "  -1.9159357352115254,\n",
       "  -0.27862734052318006,\n",
       "  -0.05295730693058505,\n",
       "  0.15137177625395343],\n",
       " [-1.5366084109010156,\n",
       "  -1.115883667638398,\n",
       "  -1.0977950398699605,\n",
       "  -3.2596247372770555,\n",
       "  -2.7647763455279826,\n",
       "  -2.5464669639614286,\n",
       "  -1.0572013779611165,\n",
       "  -0.9286433941368064,\n",
       "  -0.8809634232170744],\n",
       " [-1.1847688486813328,\n",
       "  -1.1148714884130788,\n",
       "  -1.081633800619525,\n",
       "  -2.173792513920891,\n",
       "  -2.032318210447719,\n",
       "  -2.0236700447214977,\n",
       "  -1.0682325781465687,\n",
       "  -1.0566865275944997,\n",
       "  -0.936297776660182],\n",
       " [1.093109404391481,\n",
       "  1.2016338611696502,\n",
       "  1.2223924213364477,\n",
       "  0.3410369178350666,\n",
       "  0.5193741590935792,\n",
       "  0.8210298589546804,\n",
       "  1.3410369178350667,\n",
       "  1.432959407276106,\n",
       "  1.5360529002402095])"
      ]
     },
     "execution_count": 17,
     "metadata": {},
     "output_type": "execute_result"
    }
   ],
   "source": [
    "igeo_Pb, igeo_Cu, igeo_Cr, igeo_Zn, igeo_Cd"
   ]
  },
  {
   "cell_type": "code",
   "execution_count": 25,
   "id": "455b603b",
   "metadata": {},
   "outputs": [
    {
     "data": {
      "text/plain": [
       "20.002988757492982"
      ]
     },
     "execution_count": 25,
     "metadata": {},
     "output_type": "execute_result"
    }
   ],
   "source": [
    "bg_Pb = df[\"Pb\"][0]/ (1.5* 2**(-1.4795))\n",
    "bg_Pb"
   ]
  },
  {
   "cell_type": "code",
   "execution_count": 26,
   "id": "e92b2f8c",
   "metadata": {},
   "outputs": [
    {
     "data": {
      "text/plain": [
       "45.02199102152199"
      ]
     },
     "execution_count": 26,
     "metadata": {},
     "output_type": "execute_result"
    }
   ],
   "source": [
    "bg_Cu = df[\"Cu\"][0]/ (1.5* 2**(-2.3496))\n",
    "bg_Cu"
   ]
  },
  {
   "cell_type": "code",
   "execution_count": 27,
   "id": "ac3af2d1",
   "metadata": {},
   "outputs": [
    {
     "data": {
      "text/plain": [
       "90.0053409300394"
      ]
     },
     "execution_count": 27,
     "metadata": {},
     "output_type": "execute_result"
    }
   ],
   "source": [
    "bg_Cr = df[\"Cr\"][0]/ (1.5* 2**(-1.8788))\n",
    "bg_Cr"
   ]
  },
  {
   "cell_type": "code",
   "execution_count": 28,
   "id": "9c27034d",
   "metadata": {},
   "outputs": [
    {
     "data": {
      "text/plain": [
       "95.01055155253077"
      ]
     },
     "execution_count": 28,
     "metadata": {},
     "output_type": "execute_result"
    }
   ],
   "source": [
    "bg_Zn = df[\"Zn\"][0]/ (1.5* 2**(-0.7661))\n",
    "bg_Zn"
   ]
  },
  {
   "cell_type": "code",
   "execution_count": 29,
   "id": "d480652b",
   "metadata": {},
   "outputs": [
    {
     "data": {
      "text/plain": [
       "0.30000975350260106"
      ]
     },
     "execution_count": 29,
     "metadata": {},
     "output_type": "execute_result"
    }
   ],
   "source": [
    "bg_Cd = df[\"Cd\"][0]/ (1.5* 2**(0.5081))\n",
    "bg_Cd"
   ]
  },
  {
   "cell_type": "code",
   "execution_count": 21,
   "id": "418eaf1f",
   "metadata": {},
   "outputs": [
    {
     "data": {
      "text/plain": [
       "19.925925925925924"
      ]
     },
     "execution_count": 21,
     "metadata": {},
     "output_type": "execute_result"
    }
   ],
   "source": [
    "bg_cf_pb1 = df[\"Pb\"][0]/ 0.54\n",
    "bg_cf_pb1"
   ]
  },
  {
   "cell_type": "code",
   "execution_count": 22,
   "id": "d8cea9db",
   "metadata": {},
   "outputs": [
    {
     "data": {
      "text/plain": [
       "20.137931034482758"
      ]
     },
     "execution_count": 22,
     "metadata": {},
     "output_type": "execute_result"
    }
   ],
   "source": [
    "bg_cf_pb2 = df[\"Pb\"][1]/ 0.58\n",
    "bg_cf_pb2"
   ]
  },
  {
   "cell_type": "markdown",
   "id": "0251cc26",
   "metadata": {},
   "source": [
    "#### Background value were same in Ig and CF"
   ]
  },
  {
   "cell_type": "markdown",
   "id": "3b946b61",
   "metadata": {},
   "source": [
    "## CF CD PLI"
   ]
  },
  {
   "cell_type": "code",
   "execution_count": 24,
   "id": "2c10cc3b",
   "metadata": {},
   "outputs": [
    {
     "data": {
      "text/plain": [
       "[0.538,\n",
       " 0.584,\n",
       " 0.625,\n",
       " 0.33799999999999997,\n",
       " 0.377,\n",
       " 0.46299999999999997,\n",
       " 0.837,\n",
       " 1.0405,\n",
       " 1.1205]"
      ]
     },
     "execution_count": 24,
     "metadata": {},
     "output_type": "execute_result"
    }
   ],
   "source": [
    "cf_Pb = []\n",
    "\n",
    "i= 0\n",
    "while i < len(df[\"Pb\"]):\n",
    "    val = df[\"Pb\"][i]/ 20\n",
    "    cf_Pb.append(val)\n",
    "    i+=1 \n",
    "    \n",
    "    \n",
    "cf_Pb"
   ]
  },
  {
   "cell_type": "code",
   "execution_count": 33,
   "id": "4ad7966c",
   "metadata": {},
   "outputs": [
    {
     "data": {
      "text/plain": [
       "[0.29444444444444445,\n",
       " 0.38911111111111113,\n",
       " 0.4746666666666667,\n",
       " 0.17733333333333334,\n",
       " 0.20977777777777776,\n",
       " 0.2826666666666667,\n",
       " 0.8793333333333333,\n",
       " 1.0282222222222224,\n",
       " 1.1846666666666668]"
      ]
     },
     "execution_count": 33,
     "metadata": {},
     "output_type": "execute_result"
    }
   ],
   "source": [
    "cf_Cu = []\n",
    "\n",
    "i= 0\n",
    "while i < len(df[\"Pb\"]):\n",
    "    val = df[\"Cu\"][i]/ 45\n",
    "    cf_Cu.append(val)\n",
    "    i+=1 \n",
    "    \n",
    "    \n",
    "cf_Cu"
   ]
  },
  {
   "cell_type": "code",
   "execution_count": 32,
   "id": "b496b3de",
   "metadata": {},
   "outputs": [
    {
     "data": {
      "text/plain": [
       "[0.4078888888888889,\n",
       " 0.546,\n",
       " 0.5528888888888889,\n",
       " 0.12355555555555554,\n",
       " 0.1741111111111111,\n",
       " 0.20255555555555557,\n",
       " 0.5686666666666667,\n",
       " 0.6216666666666667,\n",
       " 0.6425555555555555]"
      ]
     },
     "execution_count": 32,
     "metadata": {},
     "output_type": "execute_result"
    }
   ],
   "source": [
    "cf_Cr = []\n",
    "\n",
    "i= 0\n",
    "while i < len(df[\"Pb\"]):\n",
    "    val = df[\"Cr\"][i]/ 90\n",
    "    cf_Cr.append(val)\n",
    "    i+=1 \n",
    "    \n",
    "    \n",
    "cf_Cr"
   ]
  },
  {
   "cell_type": "code",
   "execution_count": 31,
   "id": "10ace2f4",
   "metadata": {},
   "outputs": [
    {
     "data": {
      "text/plain": [
       "[0.8821052631578947,\n",
       " 0.9258947368421052,\n",
       " 0.9474736842105264,\n",
       " 0.44442105263157894,\n",
       " 0.4902105263157895,\n",
       " 0.49315789473684213,\n",
       " 0.9563157894736841,\n",
       " 0.964,\n",
       " 1.0478947368421052]"
      ]
     },
     "execution_count": 31,
     "metadata": {},
     "output_type": "execute_result"
    }
   ],
   "source": [
    "cf_Zn = []\n",
    "\n",
    "i= 0\n",
    "while i < len(df[\"Pb\"]):\n",
    "    val = df[\"Zn\"][i]/ 95\n",
    "    cf_Zn.append(val)\n",
    "    i+=1 \n",
    "    \n",
    "    \n",
    "cf_Zn"
   ]
  },
  {
   "cell_type": "code",
   "execution_count": 30,
   "id": "db7fe3a1",
   "metadata": {},
   "outputs": [
    {
     "data": {
      "text/plain": [
       "[2.1333333333333333,\n",
       " 2.3,\n",
       " 2.3333333333333335,\n",
       " 1.2666666666666668,\n",
       " 1.4333333333333333,\n",
       " 1.7666666666666668,\n",
       " 2.5333333333333337,\n",
       " 2.7,\n",
       " 2.9]"
      ]
     },
     "execution_count": 30,
     "metadata": {},
     "output_type": "execute_result"
    }
   ],
   "source": [
    "cf_Cd = []\n",
    "\n",
    "i= 0\n",
    "while i < len(df[\"Pb\"]):\n",
    "    val = df[\"Cd\"][i]/ 0.3\n",
    "    cf_Cd.append(val)\n",
    "    i+=1 \n",
    "    \n",
    "    \n",
    "cf_Cd"
   ]
  },
  {
   "cell_type": "code",
   "execution_count": 36,
   "id": "0e60342c",
   "metadata": {},
   "outputs": [
    {
     "data": {
      "text/plain": [
       "4.2557719298245615"
      ]
     },
     "execution_count": 36,
     "metadata": {},
     "output_type": "execute_result"
    }
   ],
   "source": [
    "CD = (cf_Pb[0]+cf_Cu[0]+cf_Cr[0]+cf_Zn[0]+cf_Cd[0])\n",
    "CD"
   ]
  },
  {
   "cell_type": "code",
   "execution_count": 42,
   "id": "b972ad4a",
   "metadata": {},
   "outputs": [
    {
     "data": {
      "text/plain": [
       "0.6561170590529237"
      ]
     },
     "execution_count": 42,
     "metadata": {},
     "output_type": "execute_result"
    }
   ],
   "source": [
    "PLI = (cf_Pb[0]*cf_Cu[0]*cf_Cr[0]*cf_Zn[0]*cf_Cd[0])**(1/5)\n",
    "PLI"
   ]
  },
  {
   "cell_type": "markdown",
   "id": "18d8e683",
   "metadata": {},
   "source": [
    "### EF"
   ]
  },
  {
   "cell_type": "code",
   "execution_count": 60,
   "id": "774c9deb",
   "metadata": {},
   "outputs": [
    {
     "data": {
      "text/plain": [
       "1.1810976744186048"
      ]
     },
     "execution_count": 60,
     "metadata": {},
     "output_type": "execute_result"
    }
   ],
   "source": [
    "ef = (df[\"Pb\"][0]/2.15)/(20/4.72)\n",
    "ef"
   ]
  },
  {
   "cell_type": "code",
   "execution_count": 61,
   "id": "83b792c4",
   "metadata": {},
   "outputs": [
    {
     "data": {
      "text/plain": [
       "1.2820837209302325"
      ]
     },
     "execution_count": 61,
     "metadata": {},
     "output_type": "execute_result"
    }
   ],
   "source": [
    "ef = (df[\"Pb\"][1]/2.15)/(20/4.72)\n",
    "ef"
   ]
  },
  {
   "cell_type": "code",
   "execution_count": 62,
   "id": "8fc4b3fe",
   "metadata": {},
   "outputs": [
    {
     "data": {
      "text/plain": [
       "0.6464082687338502"
      ]
     },
     "execution_count": 62,
     "metadata": {},
     "output_type": "execute_result"
    }
   ],
   "source": [
    "ef = (df[\"Cu\"][0]/2.15)/(45/4.72)\n",
    "ef"
   ]
  },
  {
   "cell_type": "code",
   "execution_count": null,
   "id": "be617ff9",
   "metadata": {},
   "outputs": [],
   "source": []
  },
  {
   "cell_type": "code",
   "execution_count": 48,
   "id": "c5e8b9db",
   "metadata": {},
   "outputs": [
    {
     "data": {
      "text/html": [
       "<div>\n",
       "<style scoped>\n",
       "    .dataframe tbody tr th:only-of-type {\n",
       "        vertical-align: middle;\n",
       "    }\n",
       "\n",
       "    .dataframe tbody tr th {\n",
       "        vertical-align: top;\n",
       "    }\n",
       "\n",
       "    .dataframe thead th {\n",
       "        text-align: right;\n",
       "    }\n",
       "</style>\n",
       "<table border=\"1\" class=\"dataframe\">\n",
       "  <thead>\n",
       "    <tr style=\"text-align: right;\">\n",
       "      <th></th>\n",
       "      <th>Elements</th>\n",
       "      <th>Bm</th>\n",
       "    </tr>\n",
       "  </thead>\n",
       "  <tbody>\n",
       "    <tr>\n",
       "      <th>0</th>\n",
       "      <td>Cr</td>\n",
       "      <td>71.0</td>\n",
       "    </tr>\n",
       "    <tr>\n",
       "      <th>1</th>\n",
       "      <td>Mn</td>\n",
       "      <td>750.0</td>\n",
       "    </tr>\n",
       "    <tr>\n",
       "      <th>2</th>\n",
       "      <td>Ni</td>\n",
       "      <td>49.0</td>\n",
       "    </tr>\n",
       "    <tr>\n",
       "      <th>3</th>\n",
       "      <td>Cu</td>\n",
       "      <td>32.0</td>\n",
       "    </tr>\n",
       "    <tr>\n",
       "      <th>4</th>\n",
       "      <td>Zn</td>\n",
       "      <td>127.0</td>\n",
       "    </tr>\n",
       "    <tr>\n",
       "      <th>5</th>\n",
       "      <td>Cd</td>\n",
       "      <td>0.2</td>\n",
       "    </tr>\n",
       "    <tr>\n",
       "      <th>6</th>\n",
       "      <td>Pb</td>\n",
       "      <td>16.0</td>\n",
       "    </tr>\n",
       "    <tr>\n",
       "      <th>7</th>\n",
       "      <td>As</td>\n",
       "      <td>12.0</td>\n",
       "    </tr>\n",
       "    <tr>\n",
       "      <th>8</th>\n",
       "      <td>Fe</td>\n",
       "      <td>35900.0</td>\n",
       "    </tr>\n",
       "  </tbody>\n",
       "</table>\n",
       "</div>"
      ],
      "text/plain": [
       "  Elements       Bm\n",
       "0       Cr     71.0\n",
       "1       Mn    750.0\n",
       "2       Ni     49.0\n",
       "3       Cu     32.0\n",
       "4       Zn    127.0\n",
       "5       Cd      0.2\n",
       "6       Pb     16.0\n",
       "7       As     12.0\n",
       "8       Fe  35900.0"
      ]
     },
     "execution_count": 48,
     "metadata": {},
     "output_type": "execute_result"
    }
   ],
   "source": [
    "background_values"
   ]
  },
  {
   "cell_type": "code",
   "execution_count": 64,
   "id": "3b21364c",
   "metadata": {},
   "outputs": [
    {
     "data": {
      "text/plain": [
       "[2.1703931623931627,\n",
       " 2.552296296296296,\n",
       " 2.9499999999999997,\n",
       " 1.1477410071942447,\n",
       " 1.4706115702479339,\n",
       " 1.528223776223776,\n",
       " 2.762685314685314,\n",
       " 3.0129815950920245,\n",
       " 3.1294437869822485]"
      ]
     },
     "execution_count": 64,
     "metadata": {},
     "output_type": "execute_result"
    }
   ],
   "source": [
    "fe_sample = []\n",
    "ef_temp = [1.17, 1.08, 1, 1.39, 1.21, 1.43, 1.43, 1.63, 1.69]\n",
    "\n",
    "i= 0\n",
    "while i < len(df[\"Pb\"]):\n",
    "    val = df[\"Pb\"][i]/ (ef_temp[i] * (20/4.72))\n",
    "    fe_sample.append(val)\n",
    "    i+=1 \n",
    "    \n",
    "    \n",
    "fe_sample"
   ]
  },
  {
   "cell_type": "code",
   "execution_count": 54,
   "id": "25dc61ac",
   "metadata": {},
   "outputs": [
    {
     "data": {
      "text/plain": [
       "2.552296296296296"
      ]
     },
     "execution_count": 54,
     "metadata": {},
     "output_type": "execute_result"
    }
   ],
   "source": [
    "fe = df[\"Pb\"][1]/(1.08 * (20/4.72))\n",
    "fe"
   ]
  },
  {
   "cell_type": "code",
   "execution_count": 65,
   "id": "1140a443",
   "metadata": {},
   "outputs": [
    {
     "data": {
      "text/plain": [
       "[1.1699999999999997,\n",
       " 1.08,\n",
       " 1.0,\n",
       " 1.39,\n",
       " 1.21,\n",
       " 1.43,\n",
       " 1.4300000000000002,\n",
       " 1.63,\n",
       " 1.69]"
      ]
     },
     "execution_count": 65,
     "metadata": {},
     "output_type": "execute_result"
    }
   ],
   "source": [
    "ef_Pb = []\n",
    "fe_bg = 4.72\n",
    "pb_bg = 20\n",
    "\n",
    "i= 0\n",
    "while i < len(df[\"Pb\"]):\n",
    "    val = (df[\"Pb\"][i]/fe_sample[i])/(pb_bg/fe_bg)\n",
    "    ef_Pb.append(val)\n",
    "    i+=1 \n",
    "    \n",
    "ef_Pb"
   ]
  },
  {
   "cell_type": "markdown",
   "id": "a29f520c",
   "metadata": {},
   "source": [
    "## E and RI"
   ]
  },
  {
   "cell_type": "code",
   "execution_count": 66,
   "id": "b169c737",
   "metadata": {},
   "outputs": [
    {
     "data": {
      "text/plain": [
       "0.538"
      ]
     },
     "execution_count": 66,
     "metadata": {},
     "output_type": "execute_result"
    }
   ],
   "source": [
    "acc_factor = df[\"Pb\"][0]/20\n",
    "acc_factor"
   ]
  },
  {
   "cell_type": "code",
   "execution_count": 68,
   "id": "61a3c347",
   "metadata": {},
   "outputs": [
    {
     "data": {
      "text/plain": [
       "2.6900000000000004"
      ]
     },
     "execution_count": 68,
     "metadata": {},
     "output_type": "execute_result"
    }
   ],
   "source": [
    "e_r = 5 * acc_factor\n",
    "e_r"
   ]
  },
  {
   "cell_type": "code",
   "execution_count": 71,
   "id": "5f36c26b",
   "metadata": {},
   "outputs": [
    {
     "data": {
      "text/plain": [
       "[2.6900000000000004, 2.92, 3.125, 1.69, 1.885, 2.315, 4.185, 5.2025, 5.6025]"
      ]
     },
     "execution_count": 71,
     "metadata": {},
     "output_type": "execute_result"
    }
   ],
   "source": [
    "er_Pb = []\n",
    "pre_ind_Pb = 20\n",
    "trv_Pb = 5\n",
    "\n",
    "i= 0\n",
    "while i < len(df[\"Pb\"]):\n",
    "    acc_factor = df[\"Pb\"][i] / pre_ind_Pb\n",
    "    er = trv_Pb * acc_factor\n",
    "    er_Pb.append(er)\n",
    "    i+=1 \n",
    "    \n",
    "er_Pb"
   ]
  },
  {
   "cell_type": "code",
   "execution_count": 75,
   "id": "105e8090",
   "metadata": {},
   "outputs": [
    {
     "data": {
      "text/plain": [
       "[2.0703125,\n",
       " 2.7359375000000004,\n",
       " 3.3375,\n",
       " 1.2468750000000002,\n",
       " 1.4749999999999999,\n",
       " 1.9875,\n",
       " 6.1828125,\n",
       " 7.229687500000001,\n",
       " 8.3296875]"
      ]
     },
     "execution_count": 75,
     "metadata": {},
     "output_type": "execute_result"
    }
   ],
   "source": [
    "er_Cu = []\n",
    "pre_ind_Cu = 32\n",
    "trv_Cu = 5\n",
    "\n",
    "i= 0\n",
    "while i < len(df[\"Pb\"]):\n",
    "    acc_factor = df[\"Cu\"][i] / pre_ind_Cu\n",
    "    er = trv_Cu * acc_factor\n",
    "    er_Cu.append(er)\n",
    "    i+=1 \n",
    "    \n",
    "er_Cu"
   ]
  },
  {
   "cell_type": "code",
   "execution_count": 76,
   "id": "42654656",
   "metadata": {},
   "outputs": [
    {
     "data": {
      "text/plain": [
       "[0.7569072164948454,\n",
       " 1.0131958762886597,\n",
       " 1.025979381443299,\n",
       " 0.2292783505154639,\n",
       " 0.32309278350515463,\n",
       " 0.37587628865979383,\n",
       " 1.0552577319587628,\n",
       " 1.1536082474226805,\n",
       " 1.1923711340206185]"
      ]
     },
     "execution_count": 76,
     "metadata": {},
     "output_type": "execute_result"
    }
   ],
   "source": [
    "er_Cr = []\n",
    "pre_ind_Cr = 97\n",
    "trv_Cr = 2\n",
    "\n",
    "i= 0\n",
    "while i < len(df[\"Pb\"]):\n",
    "    acc_factor = df[\"Cr\"][i] / pre_ind_Cr\n",
    "    er = trv_Cr * acc_factor\n",
    "    er_Cr.append(er)\n",
    "    i+=1 \n",
    "    \n",
    "er_Cr"
   ]
  },
  {
   "cell_type": "code",
   "execution_count": 77,
   "id": "861407e3",
   "metadata": {},
   "outputs": [
    {
     "data": {
      "text/plain": [
       "[0.6496124031007752,\n",
       " 0.6818604651162791,\n",
       " 0.6977519379844962,\n",
       " 0.32728682170542633,\n",
       " 0.3610077519379845,\n",
       " 0.3631782945736434,\n",
       " 0.7042635658914729,\n",
       " 0.7099224806201551,\n",
       " 0.7717054263565891]"
      ]
     },
     "execution_count": 77,
     "metadata": {},
     "output_type": "execute_result"
    }
   ],
   "source": [
    "er_Zn = []\n",
    "pre_ind_Zn = 129\n",
    "trv_Zn = 1\n",
    "\n",
    "i= 0\n",
    "while i < len(df[\"Pb\"]):\n",
    "    acc_factor = df[\"Zn\"][i] / pre_ind_Zn\n",
    "    er = trv_Zn * acc_factor\n",
    "    er_Zn.append(er)\n",
    "    i+=1 \n",
    "    \n",
    "er_Zn"
   ]
  },
  {
   "cell_type": "code",
   "execution_count": 78,
   "id": "914341ec",
   "metadata": {},
   "outputs": [
    {
     "data": {
      "text/plain": [
       "[95.99999999999999,\n",
       " 103.49999999999999,\n",
       " 104.99999999999999,\n",
       " 57.0,\n",
       " 64.5,\n",
       " 79.5,\n",
       " 114.0,\n",
       " 121.5,\n",
       " 130.5]"
      ]
     },
     "execution_count": 78,
     "metadata": {},
     "output_type": "execute_result"
    }
   ],
   "source": [
    "er_Cd = []\n",
    "pre_ind_Cd = 0.2\n",
    "trv_Cd = 30\n",
    "\n",
    "i= 0\n",
    "while i < len(df[\"Pb\"]):\n",
    "    acc_factor = df[\"Cd\"][i] / pre_ind_Cd\n",
    "    er = trv_Cd * acc_factor\n",
    "    er_Cd.append(er)\n",
    "    i+=1 \n",
    "    \n",
    "er_Cd"
   ]
  },
  {
   "cell_type": "code",
   "execution_count": null,
   "id": "3e3dcfb0",
   "metadata": {},
   "outputs": [],
   "source": []
  },
  {
   "cell_type": "code",
   "execution_count": null,
   "id": "8cc093fe",
   "metadata": {},
   "outputs": [],
   "source": []
  },
  {
   "cell_type": "code",
   "execution_count": null,
   "id": "3f2bf88c",
   "metadata": {},
   "outputs": [],
   "source": []
  },
  {
   "cell_type": "code",
   "execution_count": null,
   "id": "d1061744",
   "metadata": {},
   "outputs": [],
   "source": []
  },
  {
   "cell_type": "code",
   "execution_count": 79,
   "id": "a3a70fc9",
   "metadata": {},
   "outputs": [
    {
     "data": {
      "text/plain": [
       "102.16683211959561"
      ]
     },
     "execution_count": 79,
     "metadata": {},
     "output_type": "execute_result"
    }
   ],
   "source": [
    "RI = er_Pb[0] + er_Cu[0] + er_Cr[0] + er_Zn[0] + er_Cd[0]     \n",
    "RI"
   ]
  },
  {
   "cell_type": "code",
   "execution_count": null,
   "id": "b2f1ebb8",
   "metadata": {},
   "outputs": [],
   "source": []
  }
 ],
 "metadata": {
  "kernelspec": {
   "display_name": "Python 3 (ipykernel)",
   "language": "python",
   "name": "python3"
  },
  "language_info": {
   "codemirror_mode": {
    "name": "ipython",
    "version": 3
   },
   "file_extension": ".py",
   "mimetype": "text/x-python",
   "name": "python",
   "nbconvert_exporter": "python",
   "pygments_lexer": "ipython3",
   "version": "3.9.12"
  }
 },
 "nbformat": 4,
 "nbformat_minor": 5
}
